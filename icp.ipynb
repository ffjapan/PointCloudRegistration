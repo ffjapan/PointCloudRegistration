{
 "cells": [
  {
   "cell_type": "code",
   "execution_count": 1,
   "metadata": {},
   "outputs": [
    {
     "name": "stdout",
     "output_type": "stream",
     "text": [
      "Jupyter environment detected. Enabling Open3D WebVisualizer.\n",
      "[Open3D INFO] WebRTC GUI backend enabled.\n",
      "[Open3D INFO] WebRTCWindowSystem: HTTP handshake server disabled.\n"
     ]
    }
   ],
   "source": [
    "import numpy as np\n",
    "import matplotlib.pyplot as plt\n",
    "import open3d as o3d\n",
    "import k3d"
   ]
  },
  {
   "cell_type": "code",
   "execution_count": 11,
   "metadata": {},
   "outputs": [],
   "source": [
    "src_file = \"Frame2555.ply\"\n",
    "tgt_file = \"Frame3979.ply\"\n",
    "src = o3d.io.read_point_cloud(src_file)\n",
    "tgt = o3d.io.read_point_cloud(tgt_file)\n",
    "\n",
    "# ファイル名から拡張子を除き, _sampled.plyをつけたものをサンプル後ファイルとする\n",
    "src_sampled_file = src_file.split(\".\")[0] + \"_sampled.ply\"\n",
    "tgt_sampled_file = tgt_file.split(\".\")[0] + \"_sampled.ply\""
   ]
  },
  {
   "cell_type": "code",
   "execution_count": 3,
   "metadata": {},
   "outputs": [
    {
     "name": "stderr",
     "output_type": "stream",
     "text": [
      "c:\\Users\\shin0\\anaconda3\\envs\\deeplearning\\lib\\site-packages\\traittypes\\traittypes.py:97: UserWarning: Given trait value dtype \"float64\" does not match required type \"float32\". A coerced copy has been created.\n",
      "  warnings.warn(\n"
     ]
    },
    {
     "data": {
      "application/vnd.jupyter.widget-view+json": {
       "model_id": "b78570263860400893efd4b4c3a5814d",
       "version_major": 2,
       "version_minor": 0
      },
      "text/plain": [
       "Output()"
      ]
     },
     "metadata": {},
     "output_type": "display_data"
    }
   ],
   "source": [
    "# k3dを使用して可視化\n",
    "plot = k3d.plot()\n",
    "plot += k3d.points(np.asarray(src.points), point_size=0.01, color=0xff0000)\n",
    "plot += k3d.points(np.asarray(tgt.points), point_size=0.01, color=0x0000ff)\n",
    "plot.display()"
   ]
  },
  {
   "cell_type": "code",
   "execution_count": 12,
   "metadata": {},
   "outputs": [],
   "source": [
    "# downsample\n",
    "src_down = o3d.io.read_point_cloud(src_sampled_file)"
   ]
  },
  {
   "cell_type": "code",
   "execution_count": 13,
   "metadata": {},
   "outputs": [
    {
     "name": "stderr",
     "output_type": "stream",
     "text": [
      "c:\\Users\\shin0\\anaconda3\\envs\\deeplearning\\lib\\site-packages\\traittypes\\traittypes.py:97: UserWarning: Given trait value dtype \"float64\" does not match required type \"float32\". A coerced copy has been created.\n",
      "  warnings.warn(\n"
     ]
    },
    {
     "data": {
      "application/vnd.jupyter.widget-view+json": {
       "model_id": "ce93bf96955d4839acdf333a08435d82",
       "version_major": 2,
       "version_minor": 0
      },
      "text/plain": [
       "Output()"
      ]
     },
     "metadata": {},
     "output_type": "display_data"
    }
   ],
   "source": [
    "# 可視化\n",
    "plot = k3d.plot()\n",
    "plot += k3d.points(np.asarray(src_down.points), point_size=0.01, color=0xff0000)\n",
    "plot += k3d.points(np.asarray(tgt.points), point_size=0.01, color=0x0000ff)\n",
    "plot.display()"
   ]
  },
  {
   "cell_type": "code",
   "execution_count": 6,
   "metadata": {},
   "outputs": [
    {
     "data": {
      "text/plain": [
       "PointCloud with 10000 points."
      ]
     },
     "execution_count": 6,
     "metadata": {},
     "output_type": "execute_result"
    }
   ],
   "source": [
    "src_down"
   ]
  },
  {
   "cell_type": "code",
   "execution_count": 7,
   "metadata": {},
   "outputs": [],
   "source": [
    "# 可視化\n",
    "o3d.visualization.draw_geometries([src_down])"
   ]
  },
  {
   "cell_type": "code",
   "execution_count": 8,
   "metadata": {},
   "outputs": [
    {
     "ename": "TypeError",
     "evalue": "__init__(): incompatible constructor arguments. The following argument types are supported:\n    1. open3d.cpu.pybind.utility.Vector3dVector()\n    2. open3d.cpu.pybind.utility.Vector3dVector(arg0: numpy.ndarray[numpy.float64])\n    3. open3d.cpu.pybind.utility.Vector3dVector(arg0: open3d.cpu.pybind.utility.Vector3dVector)\n    4. open3d.cpu.pybind.utility.Vector3dVector(arg0: Iterable)\n\nInvoked with: PointCloud with 0 points.",
     "output_type": "error",
     "traceback": [
      "\u001b[1;31m---------------------------------------------------------------------------\u001b[0m",
      "\u001b[1;31mTypeError\u001b[0m                                 Traceback (most recent call last)",
      "Cell \u001b[1;32mIn[8], line 2\u001b[0m\n\u001b[0;32m      1\u001b[0m src_down \u001b[38;5;241m=\u001b[39m o3d\u001b[38;5;241m.\u001b[39mgeometry\u001b[38;5;241m.\u001b[39mPointCloud()\n\u001b[1;32m----> 2\u001b[0m src_down\u001b[38;5;241m.\u001b[39mpoints \u001b[38;5;241m=\u001b[39m \u001b[43mo3d\u001b[49m\u001b[38;5;241;43m.\u001b[39;49m\u001b[43mutility\u001b[49m\u001b[38;5;241;43m.\u001b[39;49m\u001b[43mVector3dVector\u001b[49m\u001b[43m(\u001b[49m\u001b[43msrc_down\u001b[49m\u001b[43m)\u001b[49m\n\u001b[0;32m      3\u001b[0m tgt_down \u001b[38;5;241m=\u001b[39m o3d\u001b[38;5;241m.\u001b[39mgeometry\u001b[38;5;241m.\u001b[39mPointCloud()\n\u001b[0;32m      4\u001b[0m tgt_down\u001b[38;5;241m.\u001b[39mpoints \u001b[38;5;241m=\u001b[39m o3d\u001b[38;5;241m.\u001b[39mutility\u001b[38;5;241m.\u001b[39mVector3dVector(tgt_down)\n",
      "\u001b[1;31mTypeError\u001b[0m: __init__(): incompatible constructor arguments. The following argument types are supported:\n    1. open3d.cpu.pybind.utility.Vector3dVector()\n    2. open3d.cpu.pybind.utility.Vector3dVector(arg0: numpy.ndarray[numpy.float64])\n    3. open3d.cpu.pybind.utility.Vector3dVector(arg0: open3d.cpu.pybind.utility.Vector3dVector)\n    4. open3d.cpu.pybind.utility.Vector3dVector(arg0: Iterable)\n\nInvoked with: PointCloud with 0 points."
     ]
    }
   ],
   "source": [
    "src_down = o3d.geometry.PointCloud()\n",
    "src_down.points = o3d.utility.Vector3dVector(src_down)\n",
    "tgt_down = o3d.geometry.PointCloud()\n",
    "tgt_down.points = o3d.utility.Vector3dVector(tgt_down)\n",
    "\n",
    "src_down.paint_uniform_color([1, 0.706, 0])\n",
    "tgt_down.paint_uniform_color([0, 0.651, 0.929])"
   ]
  },
  {
   "cell_type": "code",
   "execution_count": null,
   "metadata": {},
   "outputs": [
    {
     "name": "stdout",
     "output_type": "stream",
     "text": [
      "RegistrationResult with fitness=1.134628e-04, inlier_rmse=3.669404e-13, and correspondence_set size of 24\n",
      "Access transformation to get result.\n",
      "Transformation is:\n",
      "[[ 1. -0.  0.  0.]\n",
      " [ 0.  1.  0.  0.]\n",
      " [ 0. -0.  1.  0.]\n",
      " [ 0.  0.  0.  1.]]\n"
     ]
    }
   ],
   "source": [
    "# icp\n",
    "threshold = 0.02\n",
    "\n",
    "icp_coarse = o3d.pipelines.registration.registration_icp(\n",
    "    src_down, tgt_down, threshold, np.identity(4),\n",
    "    o3d.pipelines.registration.TransformationEstimationPointToPoint())\n",
    "print(icp_coarse)\n",
    "print(\"Transformation is:\")\n",
    "# 指数表記を禁止\n",
    "np.set_printoptions(suppress=True)\n",
    "print(icp_coarse.transformation)"
   ]
  },
  {
   "cell_type": "code",
   "execution_count": null,
   "metadata": {},
   "outputs": [],
   "source": [
    "# draw\n",
    "src.paint_uniform_color([1, 0, 0])\n",
    "tgt.paint_uniform_color([0, 1, 0])\n",
    "o3d.visualization.draw_geometries([src_down, tgt_down])\n",
    "\n",
    "# draw\n",
    "src.transform(icp_coarse.transformation)\n",
    "o3d.visualization.draw_geometries([src_down, tgt_down])"
   ]
  },
  {
   "cell_type": "code",
   "execution_count": null,
   "metadata": {},
   "outputs": [],
   "source": []
  }
 ],
 "metadata": {
  "kernelspec": {
   "display_name": "deeplearning",
   "language": "python",
   "name": "python3"
  },
  "language_info": {
   "codemirror_mode": {
    "name": "ipython",
    "version": 3
   },
   "file_extension": ".py",
   "mimetype": "text/x-python",
   "name": "python",
   "nbconvert_exporter": "python",
   "pygments_lexer": "ipython3",
   "version": "3.9.18"
  }
 },
 "nbformat": 4,
 "nbformat_minor": 2
}
