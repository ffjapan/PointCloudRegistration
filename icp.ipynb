{
 "cells": [
  {
   "cell_type": "code",
   "execution_count": 1,
   "metadata": {},
   "outputs": [
    {
     "name": "stdout",
     "output_type": "stream",
     "text": [
      "Jupyter environment detected. Enabling Open3D WebVisualizer.\n",
      "[Open3D INFO] WebRTC GUI backend enabled.\n",
      "[Open3D INFO] WebRTCWindowSystem: HTTP handshake server disabled.\n"
     ]
    }
   ],
   "source": [
    "import numpy as np\n",
    "import matplotlib.pyplot as plt\n",
    "import open3d as o3d\n",
    "import k3d"
   ]
  },
  {
   "cell_type": "code",
   "execution_count": 2,
   "metadata": {},
   "outputs": [],
   "source": [
    "src_file = \"Frame2555.ply\"\n",
    "tgt_file = \"Frame3979.ply\"\n",
    "src = o3d.io.read_point_cloud(src_file)\n",
    "tgt = o3d.io.read_point_cloud(tgt_file)\n",
    "\n",
    "# ファイル名から拡張子を除き, _sampled.plyをつけたものをサンプル後ファイルとする\n",
    "src_sampled_file = src_file.split(\".\")[0] + \"_sampled.ply\"\n",
    "tgt_sampled_file = tgt_file.split(\".\")[0] + \"_sampled.ply\""
   ]
  },
  {
   "cell_type": "code",
   "execution_count": 3,
   "metadata": {},
   "outputs": [
    {
     "name": "stderr",
     "output_type": "stream",
     "text": [
      "c:\\Users\\furukawa\\anaconda3\\envs\\Deeplearning\\lib\\site-packages\\traittypes\\traittypes.py:97: UserWarning: Given trait value dtype \"float64\" does not match required type \"float32\". A coerced copy has been created.\n",
      "  warnings.warn(\n"
     ]
    },
    {
     "data": {
      "application/vnd.jupyter.widget-view+json": {
       "model_id": "f8d495486b3c435d8985d1e97ac2b6e8",
       "version_major": 2,
       "version_minor": 0
      },
      "text/plain": [
       "Output()"
      ]
     },
     "metadata": {},
     "output_type": "display_data"
    }
   ],
   "source": [
    "# k3dを使用して可視化\n",
    "plot = k3d.plot()\n",
    "plot += k3d.points(np.asarray(src.points), point_size=0.01, color=0xff0000)\n",
    "plot += k3d.points(np.asarray(tgt.points), point_size=0.01, color=0x0000ff)\n",
    "plot.display()"
   ]
  },
  {
   "cell_type": "code",
   "execution_count": 4,
   "metadata": {},
   "outputs": [],
   "source": [
    "# downsample\n",
    "src_down = o3d.io.read_point_cloud(src_sampled_file)\n",
    "tgt_down = o3d.io.read_point_cloud(tgt_sampled_file)"
   ]
  },
  {
   "cell_type": "code",
   "execution_count": 5,
   "metadata": {},
   "outputs": [
    {
     "data": {
      "application/vnd.jupyter.widget-view+json": {
       "model_id": "b9a7c7b157a94accb3b9d8751284e09d",
       "version_major": 2,
       "version_minor": 0
      },
      "text/plain": [
       "Output()"
      ]
     },
     "metadata": {},
     "output_type": "display_data"
    }
   ],
   "source": [
    "# 可視化\n",
    "plot = k3d.plot()\n",
    "plot += k3d.points(np.asarray(src_down.points), point_size=0.01, color=0xff0000)\n",
    "plot += k3d.points(np.asarray(tgt_down.points), point_size=0.01, color=0x0000ff)\n",
    "plot.display()"
   ]
  },
  {
   "cell_type": "code",
   "execution_count": 6,
   "metadata": {},
   "outputs": [
    {
     "data": {
      "text/plain": [
       "PointCloud with 10000 points."
      ]
     },
     "execution_count": 6,
     "metadata": {},
     "output_type": "execute_result"
    }
   ],
   "source": [
    "src_down"
   ]
  },
  {
   "cell_type": "code",
   "execution_count": 10,
   "metadata": {},
   "outputs": [
    {
     "name": "stdout",
     "output_type": "stream",
     "text": [
      "[[ 1.00000e+00 -2.40828e-05 -1.40028e-05 -4.23361e-03]\n",
      " [ 2.40831e-05  1.00000e+00  1.82181e-05  1.70232e-02]\n",
      " [ 1.40024e-05 -1.82185e-05  1.00000e+00 -8.57199e-03]\n",
      " [ 0.00000e+00  0.00000e+00  0.00000e+00  1.00000e+00]]\n"
     ]
    },
    {
     "data": {
      "application/vnd.jupyter.widget-view+json": {
       "model_id": "e4af8ff69eb84ee786e306813bced166",
       "version_major": 2,
       "version_minor": 0
      },
      "text/plain": [
       "Output()"
      ]
     },
     "metadata": {},
     "output_type": "display_data"
    }
   ],
   "source": [
    "# ソース点群とターゲット点群, 回転行列と並進ベクトルから結果を可視化\n",
    "source = o3d.io.read_point_cloud(src_sampled_file)\n",
    "target = o3d.io.read_point_cloud(tgt_sampled_file)\n",
    "\n",
    "# 回転行列と並進ベクトルを作成\n",
    "R = [[1, -2.40828e-05, -1.40028e-05], \n",
    "     [2.40831e-05, 1, 1.82181e-05], \n",
    "     [1.40024e-05, -1.82185e-05, 1]]\n",
    "t = [-0.00423361, 0.0170232, -0.00857199]\n",
    "\n",
    "# 変換行列を作成\n",
    "transformation = np.identity(4)\n",
    "transformation[:3, :3] = R\n",
    "transformation[:3, 3] = t\n",
    "\n",
    "print(transformation)\n",
    "\n",
    "source.transform(transformation)\n",
    "\n",
    "# ソース点群とターゲット点群を可視化\n",
    "plot = k3d.plot()\n",
    "plot += k3d.points(np.asarray(source.points), point_size=0.01, color=0xff0000)\n",
    "plot += k3d.points(np.asarray(target.points), point_size=0.01, color=0x0000ff)\n",
    "plot.display()"
   ]
  },
  {
   "cell_type": "code",
   "execution_count": null,
   "metadata": {},
   "outputs": [],
   "source": []
  }
 ],
 "metadata": {
  "kernelspec": {
   "display_name": "deeplearning",
   "language": "python",
   "name": "python3"
  },
  "language_info": {
   "codemirror_mode": {
    "name": "ipython",
    "version": 3
   },
   "file_extension": ".py",
   "mimetype": "text/x-python",
   "name": "python",
   "nbconvert_exporter": "python",
   "pygments_lexer": "ipython3",
   "version": "3.9.18"
  }
 },
 "nbformat": 4,
 "nbformat_minor": 2
}
